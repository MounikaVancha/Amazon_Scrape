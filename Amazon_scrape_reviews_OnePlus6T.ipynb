{
 "cells": [
  {
   "cell_type": "markdown",
   "metadata": {},
   "source": [
    "## Scraping Amazon Reviews"
   ]
  },
  {
   "cell_type": "markdown",
   "metadata": {},
   "source": [
    "#### Import the required libraries"
   ]
  },
  {
   "cell_type": "code",
   "execution_count": 2,
   "metadata": {},
   "outputs": [],
   "source": [
    "from selenium import webdriver\n",
    "from selenium.webdriver.common.by import By\n",
    "from selenium.webdriver.support.ui import WebDriverWait\n",
    "from selenium.webdriver.support import expected_conditions as EC\n",
    "from selenium.common.exceptions import NoSuchElementException\n",
    "import time\n",
    "import os\n",
    "import csv\n",
    "import datetime"
   ]
  },
  {
   "cell_type": "code",
   "execution_count": 3,
   "metadata": {},
   "outputs": [],
   "source": [
    "from webdriver_manager.chrome import ChromeDriverManager"
   ]
  },
  {
   "cell_type": "code",
   "execution_count": 4,
   "metadata": {},
   "outputs": [
    {
     "name": "stdout",
     "output_type": "stream",
     "text": [
      "Amazon - Scraping Reviews : Model - OnePlus 6T\n"
     ]
    }
   ],
   "source": [
    "print(\"Amazon - Scraping Reviews : Model - OnePlus 6T\")"
   ]
  },
  {
   "cell_type": "code",
   "execution_count": 5,
   "metadata": {},
   "outputs": [
    {
     "name": "stdout",
     "output_type": "stream",
     "text": [
      "\n",
      "Looking for [chromedriver 80.0.3987.106 win32] driver in cache \n",
      "File found in cache by path [C:\\Users\\mouni\\.wdm\\drivers\\chromedriver\\80.0.3987.106\\win32\\chromedriver.exe]\n"
     ]
    }
   ],
   "source": [
    "driver = webdriver.Chrome(ChromeDriverManager().install())"
   ]
  },
  {
   "cell_type": "code",
   "execution_count": 6,
   "metadata": {},
   "outputs": [],
   "source": [
    "import pandas as pd"
   ]
  },
  {
   "cell_type": "code",
   "execution_count": 7,
   "metadata": {},
   "outputs": [],
   "source": [
    "dataFrame_Reviews = pd.DataFrame(columns= ['Reviewer Name','Review Title','Review Text','Reviewed Date','Review Rating'])\n"
   ]
  },
  {
   "cell_type": "code",
   "execution_count": 8,
   "metadata": {},
   "outputs": [],
   "source": [
    "for i in range (1,2):\n",
    "    pageBaseURL = \"https://www.amazon.in/OnePlus-Midnight-Black-128GB-Storage/product-reviews/B07DJHY82F/ref=cm_cr_getr_d_paging_btm_next_2?ie=UTF8&reviewerType=all_reviews&pageNumber=\"\n",
    "    dynamicURL = pageBaseURL + str(i)\n",
    "    driver.get(dynamicURL)"
   ]
  },
  {
   "cell_type": "code",
   "execution_count": 9,
   "metadata": {},
   "outputs": [],
   "source": [
    "assert \"OnePlus\" in driver.title   # confirm with assert() if 'oneplus' is in page title"
   ]
  },
  {
   "cell_type": "code",
   "execution_count": 10,
   "metadata": {},
   "outputs": [],
   "source": [
    "review_elements = driver.find_elements_by_css_selector(\"#cm_cr-review_list .celwidget\") # this will give the complete review block\n"
   ]
  },
  {
   "cell_type": "code",
   "execution_count": 11,
   "metadata": {},
   "outputs": [
    {
     "name": "stdout",
     "output_type": "stream",
     "text": [
      "Scraping reviews page - 1\n"
     ]
    }
   ],
   "source": [
    "print(\"Scraping reviews page - \" + str(i)) # Print Page Number\n"
   ]
  },
  {
   "cell_type": "code",
   "execution_count": 12,
   "metadata": {},
   "outputs": [],
   "source": [
    " for review_element in review_elements:\n",
    "        try:\n",
    "            reviewer_name_element = review_element.find_element_by_css_selector(\".a-profile-name\")\n",
    "            reviewer_name = reviewer_name_element.text # Reviewer Name\n",
    "            \n",
    "            review_title_element = review_element.find_element_by_css_selector(\".a-text-bold span\")\n",
    "            review_title=review_title_element.text # Review Text\n",
    "            \n",
    "            \n",
    "            review_text_element = review_element.find_element_by_css_selector(\".review-text-content span\")\n",
    "            reviewer_review=review_text_element.text # Review Text\n",
    "            \n",
    "            review_time_elem = review_element.find_element_by_css_selector(\".review-date\")\n",
    "            reviewer_time=review_time_elem.text # Review Time\n",
    "            \n",
    "            cust_id = review_element.get_attribute('id')\n",
    "            rating_element = '//*[@id=\"{}\"]/div[2]/a[1]'.format(cust_id)\n",
    "            review_rating_total = review_element.find_element_by_xpath(rating_element).get_attribute(\"title\")\n",
    "            review_rating = review_rating_total.replace(\".0 out of 5 stars\",'')\n",
    "            \n",
    "            review_details=[reviewer_name, review_title, reviewer_review, reviewer_time,review_rating] # All Reivew details \n",
    "\n",
    "            record = [review_details[0], review_details[1], review_details[2],review_details[3],review_details[4]] # Get all review details as one record\n",
    "            dataFrame_Reviews.loc[dataFrame_Reviews.shape[0]] = record # Add the review record to the dataframe\n",
    "        except NoSuchElementException:\n",
    "            pass"
   ]
  },
  {
   "cell_type": "code",
   "execution_count": 13,
   "metadata": {},
   "outputs": [
    {
     "name": "stdout",
     "output_type": "stream",
     "text": [
      "Scraping End time  2020-03-08 19:26:12.005852\n"
     ]
    },
    {
     "data": {
      "text/html": [
       "<div>\n",
       "<style scoped>\n",
       "    .dataframe tbody tr th:only-of-type {\n",
       "        vertical-align: middle;\n",
       "    }\n",
       "\n",
       "    .dataframe tbody tr th {\n",
       "        vertical-align: top;\n",
       "    }\n",
       "\n",
       "    .dataframe thead th {\n",
       "        text-align: right;\n",
       "    }\n",
       "</style>\n",
       "<table border=\"1\" class=\"dataframe\">\n",
       "  <thead>\n",
       "    <tr style=\"text-align: right;\">\n",
       "      <th></th>\n",
       "      <th>Reviewer Name</th>\n",
       "      <th>Review Title</th>\n",
       "      <th>Review Text</th>\n",
       "      <th>Reviewed Date</th>\n",
       "      <th>Review Rating</th>\n",
       "    </tr>\n",
       "  </thead>\n",
       "  <tbody>\n",
       "    <tr>\n",
       "      <th>0</th>\n",
       "      <td>Tanmay Shukla</td>\n",
       "      <td>Flagship Killer</td>\n",
       "      <td>I got this phone on Friday evening.\\n\\nPros:\\n...</td>\n",
       "      <td>Reviewed in India on 4 November 2018</td>\n",
       "      <td>5</td>\n",
       "    </tr>\n",
       "    <tr>\n",
       "      <th>1</th>\n",
       "      <td>Surbhi Garg</td>\n",
       "      <td>Camera quality is very poor.</td>\n",
       "      <td>Camera quality is not upto the mark. I visited...</td>\n",
       "      <td>Reviewed in India on 4 November 2018</td>\n",
       "      <td>2</td>\n",
       "    </tr>\n",
       "    <tr>\n",
       "      <th>2</th>\n",
       "      <td>Saroj N.</td>\n",
       "      <td>Worst phone</td>\n",
       "      <td>1. The Battery lasts max of 6 hours.\\n2. Major...</td>\n",
       "      <td>Reviewed in India on 4 November 2018</td>\n",
       "      <td>1</td>\n",
       "    </tr>\n",
       "    <tr>\n",
       "      <th>3</th>\n",
       "      <td>klknow</td>\n",
       "      <td>Dead on arrival</td>\n",
       "      <td>I charged the phone completely out of the box ...</td>\n",
       "      <td>Reviewed in India on 4 November 2018</td>\n",
       "      <td>1</td>\n",
       "    </tr>\n",
       "    <tr>\n",
       "      <th>4</th>\n",
       "      <td>abdulkadir garari</td>\n",
       "      <td>Not worth to buy 6T</td>\n",
       "      <td>One plus 6 was costing 28k during the big bill...</td>\n",
       "      <td>Reviewed in India on 4 November 2018</td>\n",
       "      <td>1</td>\n",
       "    </tr>\n",
       "    <tr>\n",
       "      <th>5</th>\n",
       "      <td>Mani</td>\n",
       "      <td>Battery problem and disappointing customer sup...</td>\n",
       "      <td>OnePlus 6T turned out to be an utter disappoin...</td>\n",
       "      <td>Reviewed in India on 13 November 2018</td>\n",
       "      <td>1</td>\n",
       "    </tr>\n",
       "    <tr>\n",
       "      <th>6</th>\n",
       "      <td>Anshu K.</td>\n",
       "      <td>Beautiful phone</td>\n",
       "      <td>Good build.\\namazing battery life. ( Minimum 3...</td>\n",
       "      <td>Reviewed in India on 8 November 2018</td>\n",
       "      <td>4</td>\n",
       "    </tr>\n",
       "    <tr>\n",
       "      <th>7</th>\n",
       "      <td>Sneha</td>\n",
       "      <td>Only one side of speakers is working</td>\n",
       "      <td>Only one side of speakers is working. Right si...</td>\n",
       "      <td>Reviewed in India on 4 November 2018</td>\n",
       "      <td>1</td>\n",
       "    </tr>\n",
       "    <tr>\n",
       "      <th>8</th>\n",
       "      <td>nagaraj s.</td>\n",
       "      <td>Awesome value for the money</td>\n",
       "      <td>Phone is simply superb in all aspects...low li...</td>\n",
       "      <td>Reviewed in India on 4 November 2018</td>\n",
       "      <td>5</td>\n",
       "    </tr>\n",
       "    <tr>\n",
       "      <th>9</th>\n",
       "      <td>Aakash Sinha</td>\n",
       "      <td>OnePlust 6T McLaren Edition - Salute to Speed!</td>\n",
       "      <td>This has by far been the best phone I have eve...</td>\n",
       "      <td>Reviewed in India on 15 January 2019</td>\n",
       "      <td>5</td>\n",
       "    </tr>\n",
       "  </tbody>\n",
       "</table>\n",
       "</div>"
      ],
      "text/plain": [
       "       Reviewer Name                                       Review Title  \\\n",
       "0      Tanmay Shukla                                    Flagship Killer   \n",
       "1        Surbhi Garg                       Camera quality is very poor.   \n",
       "2           Saroj N.                                        Worst phone   \n",
       "3             klknow                                    Dead on arrival   \n",
       "4  abdulkadir garari                                Not worth to buy 6T   \n",
       "5               Mani  Battery problem and disappointing customer sup...   \n",
       "6           Anshu K.                                    Beautiful phone   \n",
       "7              Sneha               Only one side of speakers is working   \n",
       "8         nagaraj s.                        Awesome value for the money   \n",
       "9       Aakash Sinha     OnePlust 6T McLaren Edition - Salute to Speed!   \n",
       "\n",
       "                                         Review Text  \\\n",
       "0  I got this phone on Friday evening.\\n\\nPros:\\n...   \n",
       "1  Camera quality is not upto the mark. I visited...   \n",
       "2  1. The Battery lasts max of 6 hours.\\n2. Major...   \n",
       "3  I charged the phone completely out of the box ...   \n",
       "4  One plus 6 was costing 28k during the big bill...   \n",
       "5  OnePlus 6T turned out to be an utter disappoin...   \n",
       "6  Good build.\\namazing battery life. ( Minimum 3...   \n",
       "7  Only one side of speakers is working. Right si...   \n",
       "8  Phone is simply superb in all aspects...low li...   \n",
       "9  This has by far been the best phone I have eve...   \n",
       "\n",
       "                           Reviewed Date Review Rating  \n",
       "0   Reviewed in India on 4 November 2018             5  \n",
       "1   Reviewed in India on 4 November 2018             2  \n",
       "2   Reviewed in India on 4 November 2018             1  \n",
       "3   Reviewed in India on 4 November 2018             1  \n",
       "4   Reviewed in India on 4 November 2018             1  \n",
       "5  Reviewed in India on 13 November 2018             1  \n",
       "6   Reviewed in India on 8 November 2018             4  \n",
       "7   Reviewed in India on 4 November 2018             1  \n",
       "8   Reviewed in India on 4 November 2018             5  \n",
       "9   Reviewed in India on 15 January 2019             5  "
      ]
     },
     "execution_count": 13,
     "metadata": {},
     "output_type": "execute_result"
    }
   ],
   "source": [
    "dataFrame_Reviews.to_csv('OnePlus_6T_review_scraping_5000.csv') # Export the reivews dataframe to the csv file\n",
    "print(\"Scraping End time \",datetime.datetime.now()) # print the time when scrapting completed\n",
    "dataFrame_Reviews.head(10) # Print top 10 rows"
   ]
  },
  {
   "cell_type": "code",
   "execution_count": null,
   "metadata": {},
   "outputs": [],
   "source": [
    "print(\"Amazon - Scraping Reviews : Model - OnePlus 6T\")\n",
    "#print(\"Scraping Start time \",datetime.datetime.now())\n",
    "driver = webdriver.Chrome(ChromeDriverManager().install())\n",
    "dataFrame_Reviews = pd.DataFrame(columns= ['Reviewer Name','Review Title','Review Text','Reviewed Date','Review Rating'])\n",
    "for i in range (1,2):\n",
    "    pageBaseURL = \"https://www.amazon.in/OnePlus-Midnight-Black-128GB-Storage/product-reviews/B07DJHY82F/ref=cm_cr_getr_d_paging_btm_next_2?ie=UTF8&reviewerType=all_reviews&pageNumber=\"\n",
    "    dynamicURL = pageBaseURL + str(i)\n",
    "    driver.get(dynamicURL)\n",
    "    assert \"OnePlus\" in driver.title   # confirm with assert() if 'oneplus' is in page title\n",
    "    review_elements = driver.find_elements_by_css_selector(\"#cm_cr-review_list .celwidget\") # this will give the complete review block\n",
    "    print(\"Scraping reviews page - \" + str(i)) # Print Page Number\n",
    "    for review_element in review_elements:\n",
    "        try:\n",
    "            reviewer_name_element = review_element.find_element_by_css_selector(\".a-profile-name\")\n",
    "            reviewer_name = reviewer_name_element.text # Reviewer Name\n",
    "            \n",
    "            review_title_element = review_element.find_element_by_css_selector(\".a-text-bold span\")\n",
    "            review_title=review_title_element.text # Review Text\n",
    "            \n",
    "            \n",
    "            review_text_element = review_element.find_element_by_css_selector(\".review-text-content span\")\n",
    "            reviewer_review=review_text_element.text # Review Text\n",
    "            \n",
    "            review_time_elem = review_element.find_element_by_css_selector(\".review-date\")\n",
    "            reviewer_time=review_time_elem.text # Review Time\n",
    "            \n",
    "            cust_id = review_element.get_attribute('id')\n",
    "            rating_element = '//*[@id=\"{}\"]/div[2]/a[1]'.format(cust_id)\n",
    "            review_rating_total = review_element.find_element_by_xpath(rating_element).get_attribute(\"title\")\n",
    "            review_rating = review_rating_total.replace(\".0 out of 5 stars\",'')\n",
    "            \n",
    "            review_details=[reviewer_name, review_title, reviewer_review, reviewer_time,review_rating] # All Reivew details \n",
    "\n",
    "            record = [review_details[0], review_details[1], review_details[2],review_details[3],review_details[4]] # Get all review details as one record\n",
    "            dataFrame_Reviews.loc[dataFrame_Reviews.shape[0]] = record # Add the review record to the dataframe\n",
    "        except NoSuchElementException:\n",
    "            pass\n",
    "                    \n",
    "dataFrame_Reviews.to_csv('OnePlus_6T_review_scraping_5000.csv') # Export the reivews dataframe to the csv file\n",
    "print(\"Scraping End time \",datetime.datetime.now()) # print the time when scrapting completed\n",
    "dataFrame_Reviews.head(10) # Print top 10 rows\n",
    "\n"
   ]
  },
  {
   "cell_type": "code",
   "execution_count": null,
   "metadata": {},
   "outputs": [],
   "source": []
  },
  {
   "cell_type": "code",
   "execution_count": null,
   "metadata": {},
   "outputs": [],
   "source": []
  }
 ],
 "metadata": {
  "kernelspec": {
   "display_name": "Python 3",
   "language": "python",
   "name": "python3"
  },
  "language_info": {
   "codemirror_mode": {
    "name": "ipython",
    "version": 3
   },
   "file_extension": ".py",
   "mimetype": "text/x-python",
   "name": "python",
   "nbconvert_exporter": "python",
   "pygments_lexer": "ipython3",
   "version": "3.7.3"
  }
 },
 "nbformat": 4,
 "nbformat_minor": 2
}
